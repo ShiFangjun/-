{
 "cells": [
  {
   "cell_type": "markdown",
   "metadata": {},
   "source": [
    "# 协同过滤"
   ]
  },
  {
   "cell_type": "markdown",
   "metadata": {},
   "source": [
    "## 搜集偏好"
   ]
  },
  {
   "cell_type": "code",
   "execution_count": 1,
   "metadata": {},
   "outputs": [],
   "source": [
    "critics={'Lisa Rose': {'Lady in the Water': 2.5, \n",
    "                       'Snakes on a Plane': 3.5, \n",
    "                       'Just My Luck': 3.0, \n",
    "                       'Superman Returns': 3.5, \n",
    "                       'You, Me and Dupree': 2.5, \n",
    "                       'The Night Listener': 3.0},\n",
    "         'Gene Seymour': {'Lady in the Water': 3.0, \n",
    "                                  'Snakes on a Plane': 3.5,\n",
    "                                  'Just My Luck': 1.5, \n",
    "                                  'Superman Returns': 5.0, \n",
    "                                  'The Night Listener': 3.0, \n",
    "                                  'You, Me and Dupree': 3.5}, \n",
    "         'Michael Phillips': {'Lady in the Water': 2.5, \n",
    "                                  'Snakes on a Plane': 3.0,\n",
    "                                  'Superman Returns': 3.5, \n",
    "                                  'The Night Listener': 4.0},\n",
    "         'Claudia Puig': {'Snakes on a Plane': 3.5, \n",
    "                              'Just My Luck': 3.0,\n",
    "                              'The Night Listener': 4.5, \n",
    "                              'Superman Returns': 4.0, \n",
    "                              'You, Me and Dupree': 2.5},\n",
    "         'Mick LaSalle': {'Lady in the Water': 3.0,\n",
    "                              'Snakes on a Plane': 4.0,  \n",
    "                              'Just My Luck': 2.0, \n",
    "                              'Superman Returns': 3.0,\n",
    "                              'The Night Listener': 3.0,\n",
    "                              'You, Me and Dupree': 2.0}, \n",
    "         'Jack Matthews': {'Lady in the Water': 3.0, \n",
    "                                   'Snakes on a Plane': 4.0,\n",
    "                                   'The Night Listener': 3.0, \n",
    "                                   'Superman Returns': 5.0, \n",
    "                                   'You, Me and Dupree': 3.5},\n",
    "         'Toby': {'Snakes on a Plane':4.5,\n",
    "                    'You, Me and Dupree':1.0,\n",
    "                    'Superman Returns':4.0}\n",
    "        }"
   ]
  },
  {
   "cell_type": "code",
   "execution_count": 2,
   "metadata": {},
   "outputs": [
    {
     "data": {
      "text/plain": [
       "2.5"
      ]
     },
     "execution_count": 2,
     "metadata": {},
     "output_type": "execute_result"
    }
   ],
   "source": [
    "critics['Lisa Rose']['Lady in the Water']"
   ]
  },
  {
   "cell_type": "code",
   "execution_count": 3,
   "metadata": {},
   "outputs": [
    {
     "data": {
      "text/plain": [
       "{'Snakes on a Plane': 4.5, 'You, Me and Dupree': 1.0, 'Superman Returns': 4.0}"
      ]
     },
     "execution_count": 3,
     "metadata": {},
     "output_type": "execute_result"
    }
   ],
   "source": [
    "critics['Toby']"
   ]
  },
  {
   "cell_type": "markdown",
   "metadata": {},
   "source": [
    "## 欧氏距离评价"
   ]
  },
  {
   "cell_type": "markdown",
   "metadata": {},
   "source": [
    "<font size=5>\n",
    "$EDS=\\frac{1}{1+\\sqrt{p_a^2-p_b^2}}$\n",
    "</font>"
   ]
  },
  {
   "cell_type": "code",
   "execution_count": 4,
   "metadata": {},
   "outputs": [],
   "source": [
    "def sim_distance(prefs, person1, person2):\n",
    "  si={}\n",
    "  for item in prefs[person1]: \n",
    "    if item in prefs[person2]: \n",
    "        si[item]=1\n",
    "\n",
    "  if not len(si): \n",
    "    return 0\n",
    "\n",
    "  sum_of_squares=sum([(prefs[person1][item] - prefs[person2][item]) ** 2 \n",
    "                      for item in prefs[person1] if item in prefs[person2]])\n",
    "\n",
    "  return 1 / (1 + (sum_of_squares) ** 0.5)"
   ]
  },
  {
   "cell_type": "code",
   "execution_count": 5,
   "metadata": {},
   "outputs": [
    {
     "data": {
      "text/plain": [
       "0.29429805508554946"
      ]
     },
     "execution_count": 5,
     "metadata": {},
     "output_type": "execute_result"
    }
   ],
   "source": [
    "sim_distance(critics, 'Lisa Rose', 'Gene Seymour')"
   ]
  },
  {
   "cell_type": "markdown",
   "metadata": {},
   "source": [
    "## 皮尔逊相关系数评价"
   ]
  },
  {
   "cell_type": "markdown",
   "metadata": {},
   "source": [
    "<font size=5>\n",
    "$PCS=\\frac{\\sum{p_{a(i)}p_{b(i)}}-\\frac{1}{n}(\\sum{p_{a(i)}}-\\sum{p_{b(i)}})}{\\sqrt{(\\sum{p_{a(i)}^2}-(\\sum{p_{a(i)}})^2)}\\sqrt{(\\sum{p_{b(i)}^2}-(\\sum{p_{b(i)}})^2)}}$\n",
    "</font>"
   ]
  },
  {
   "cell_type": "code",
   "execution_count": 6,
   "metadata": {},
   "outputs": [],
   "source": [
    "def sim_pearson(prefs, p1, p2):\n",
    "  si={}\n",
    "  for item in prefs[p1]: \n",
    "    if item in prefs[p2]: \n",
    "        si[item]=1\n",
    "\n",
    "  if not len(si): \n",
    "    return 0\n",
    "\n",
    "  n = len(si)\n",
    "  \n",
    "  sum1 = sum([prefs[p1][it] for it in si])\n",
    "  sum2 = sum([prefs[p2][it] for it in si])\n",
    "  \n",
    "  sum1Sq = sum([prefs[p1][it] ** 2 for it in si])\n",
    "  sum2Sq = sum([prefs[p2][it] ** 2 for it in si])\n",
    "  \n",
    "  pSum = sum([prefs[p1][it] * prefs[p2][it] for it in si])\n",
    "  \n",
    "  num = pSum - (sum1 * sum2 / n)\n",
    "  den = ((sum1Sq - sum1 ** 2 / n) * (sum2Sq - sum2 ** 2 / n)) ** 0.5\n",
    "  if not den: \n",
    "        return 0\n",
    "\n",
    "  return num / den"
   ]
  },
  {
   "cell_type": "code",
   "execution_count": 7,
   "metadata": {},
   "outputs": [
    {
     "data": {
      "text/plain": [
       "0.39605901719066977"
      ]
     },
     "execution_count": 7,
     "metadata": {},
     "output_type": "execute_result"
    }
   ],
   "source": [
    "sim_pearson(critics, 'Lisa Rose', 'Gene Seymour')"
   ]
  },
  {
   "cell_type": "markdown",
   "metadata": {},
   "source": [
    "## 相似评论者排名"
   ]
  },
  {
   "cell_type": "code",
   "execution_count": 8,
   "metadata": {},
   "outputs": [],
   "source": [
    "def topMatches(prefs, person, n=5, similarity=sim_pearson):\n",
    "  scores=[(similarity(prefs, person, other), other) \n",
    "                  for other in prefs if other != person]\n",
    "  scores.sort()\n",
    "  scores.reverse()\n",
    "  return scores[0:n]"
   ]
  },
  {
   "cell_type": "code",
   "execution_count": 9,
   "metadata": {},
   "outputs": [
    {
     "data": {
      "text/plain": [
       "[(0.9912407071619299, 'Lisa Rose'),\n",
       " (0.9244734516419049, 'Mick LaSalle'),\n",
       " (0.8934051474415647, 'Claudia Puig')]"
      ]
     },
     "execution_count": 9,
     "metadata": {},
     "output_type": "execute_result"
    }
   ],
   "source": [
    "topMatches(critics, 'Toby', n=3)"
   ]
  },
  {
   "cell_type": "markdown",
   "metadata": {},
   "source": [
    "## 推荐物品"
   ]
  },
  {
   "cell_type": "code",
   "execution_count": 10,
   "metadata": {},
   "outputs": [],
   "source": [
    "def getRecommendations(prefs, person, similarity=sim_pearson):\n",
    "  totals={}\n",
    "  simSums={}\n",
    "  for other in prefs:\n",
    "    if other==person: \n",
    "        continue\n",
    "        \n",
    "    sim=similarity(prefs,person,other)\n",
    "\n",
    "    if sim <= 0: \n",
    "        continue\n",
    "        \n",
    "    for item in prefs[other]:\n",
    "      if item not in prefs[person] or not prefs[person][item]:\n",
    "        totals.setdefault(item,0)\n",
    "        totals[item] += prefs[other][item] * sim\n",
    "        simSums.setdefault(item,0)\n",
    "        simSums[item] += sim\n",
    "\n",
    "  rankings=[(total / simSums[item], item) for item, total in totals.items()]\n",
    "\n",
    "  rankings.sort()\n",
    "  rankings.reverse()\n",
    "  return rankings"
   ]
  },
  {
   "cell_type": "code",
   "execution_count": 11,
   "metadata": {},
   "outputs": [
    {
     "data": {
      "text/plain": [
       "[(3.3477895267131017, 'The Night Listener'),\n",
       " (2.8325499182641614, 'Lady in the Water'),\n",
       " (2.530980703765565, 'Just My Luck')]"
      ]
     },
     "execution_count": 11,
     "metadata": {},
     "output_type": "execute_result"
    }
   ],
   "source": [
    "getRecommendations(critics, 'Toby')"
   ]
  },
  {
   "cell_type": "code",
   "execution_count": 12,
   "metadata": {},
   "outputs": [
    {
     "data": {
      "text/plain": [
       "[(3.457128694491423, 'The Night Listener'),\n",
       " (2.778584003814924, 'Lady in the Water'),\n",
       " (2.422482042361917, 'Just My Luck')]"
      ]
     },
     "execution_count": 12,
     "metadata": {},
     "output_type": "execute_result"
    }
   ],
   "source": [
    "getRecommendations(critics, 'Toby', similarity=sim_distance)"
   ]
  },
  {
   "cell_type": "markdown",
   "metadata": {},
   "source": [
    "## 匹配商品"
   ]
  },
  {
   "cell_type": "markdown",
   "metadata": {},
   "source": [
    "### 人员物品对调"
   ]
  },
  {
   "cell_type": "code",
   "execution_count": 13,
   "metadata": {},
   "outputs": [],
   "source": [
    "def transformPrefs(prefs):\n",
    "  result={}\n",
    "  for person in prefs:\n",
    "    for item in prefs[person]:\n",
    "      result.setdefault(item, {})\n",
    "      result[item][person] = prefs[person][item]\n",
    "  return result"
   ]
  },
  {
   "cell_type": "code",
   "execution_count": 14,
   "metadata": {},
   "outputs": [
    {
     "data": {
      "text/plain": [
       "{'Lady in the Water': {'Lisa Rose': 2.5,\n",
       "  'Gene Seymour': 3.0,\n",
       "  'Michael Phillips': 2.5,\n",
       "  'Mick LaSalle': 3.0,\n",
       "  'Jack Matthews': 3.0},\n",
       " 'Snakes on a Plane': {'Lisa Rose': 3.5,\n",
       "  'Gene Seymour': 3.5,\n",
       "  'Michael Phillips': 3.0,\n",
       "  'Claudia Puig': 3.5,\n",
       "  'Mick LaSalle': 4.0,\n",
       "  'Jack Matthews': 4.0,\n",
       "  'Toby': 4.5},\n",
       " 'Just My Luck': {'Lisa Rose': 3.0,\n",
       "  'Gene Seymour': 1.5,\n",
       "  'Claudia Puig': 3.0,\n",
       "  'Mick LaSalle': 2.0},\n",
       " 'Superman Returns': {'Lisa Rose': 3.5,\n",
       "  'Gene Seymour': 5.0,\n",
       "  'Michael Phillips': 3.5,\n",
       "  'Claudia Puig': 4.0,\n",
       "  'Mick LaSalle': 3.0,\n",
       "  'Jack Matthews': 5.0,\n",
       "  'Toby': 4.0},\n",
       " 'You, Me and Dupree': {'Lisa Rose': 2.5,\n",
       "  'Gene Seymour': 3.5,\n",
       "  'Claudia Puig': 2.5,\n",
       "  'Mick LaSalle': 2.0,\n",
       "  'Jack Matthews': 3.5,\n",
       "  'Toby': 1.0},\n",
       " 'The Night Listener': {'Lisa Rose': 3.0,\n",
       "  'Gene Seymour': 3.0,\n",
       "  'Michael Phillips': 4.0,\n",
       "  'Claudia Puig': 4.5,\n",
       "  'Mick LaSalle': 3.0,\n",
       "  'Jack Matthews': 3.0}}"
      ]
     },
     "execution_count": 14,
     "metadata": {},
     "output_type": "execute_result"
    }
   ],
   "source": [
    "movies = transformPrefs(critics)\n",
    "movies"
   ]
  },
  {
   "cell_type": "code",
   "execution_count": 15,
   "metadata": {},
   "outputs": [
    {
     "data": {
      "text/plain": [
       "[(0.6579516949597695, 'You, Me and Dupree'),\n",
       " (0.4879500364742689, 'Lady in the Water'),\n",
       " (0.11180339887498941, 'Snakes on a Plane'),\n",
       " (-0.1798471947990544, 'The Night Listener'),\n",
       " (-0.42289003161103106, 'Just My Luck')]"
      ]
     },
     "execution_count": 15,
     "metadata": {},
     "output_type": "execute_result"
    }
   ],
   "source": [
    "topMatches(movies, 'Superman Returns')"
   ]
  },
  {
   "cell_type": "code",
   "execution_count": 16,
   "metadata": {},
   "outputs": [
    {
     "data": {
      "text/plain": [
       "[(4.0, 'Michael Phillips'), (3.0, 'Jack Matthews')]"
      ]
     },
     "execution_count": 16,
     "metadata": {},
     "output_type": "execute_result"
    }
   ],
   "source": [
    "getRecommendations(movies, 'Just My Luck')"
   ]
  }
 ],
 "metadata": {
  "kernelspec": {
   "display_name": "Python 3",
   "language": "python",
   "name": "python3"
  },
  "language_info": {
   "codemirror_mode": {
    "name": "ipython",
    "version": 3
   },
   "file_extension": ".py",
   "mimetype": "text/x-python",
   "name": "python",
   "nbconvert_exporter": "python",
   "pygments_lexer": "ipython3",
   "version": "3.6.6"
  }
 },
 "nbformat": 4,
 "nbformat_minor": 2
}
